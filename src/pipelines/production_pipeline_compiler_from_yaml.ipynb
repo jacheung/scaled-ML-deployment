{
 "cells": [
  {
   "cell_type": "code",
   "execution_count": 7,
   "metadata": {},
   "outputs": [
    {
     "data": {
      "text/plain": [
       "'/Users/jcheung/Documents/GitHub/scaled-ML-deployment/src/components'"
      ]
     },
     "execution_count": 7,
     "metadata": {},
     "output_type": "execute_result"
    }
   ],
   "source": [
    "import os\n"
   ]
  },
  {
   "cell_type": "code",
   "execution_count": 33,
   "metadata": {},
   "outputs": [
    {
     "name": "stdout",
     "output_type": "stream",
     "text": [
      "{metricName: accuracy, metricValue: 4.00}\n",
      "\n"
     ]
    }
   ],
   "source": [
    "derp = 4\n",
    "print(\"{{metricName: accuracy, metricValue: {:.2f}}}\\n\".format(derp))"
   ]
  },
  {
   "cell_type": "code",
   "execution_count": 27,
   "metadata": {},
   "outputs": [
    {
     "data": {
      "text/plain": [
       "'[{\"last_name””: \"Black””,\"first_name””: \"Sirus””,\"height_feet””: \"“5\"”,\"height_inches””: \"“2\"”},{\"last_name””: \"Cho””,\"first_name””: \"Chang””,\"height_feet””: \"“5\"”,\"height_inches””: \"“1\"”},{\"last_name””: \"Dumbledore””,\"first_name””: \"Albus””,\"height_feet””: \"“6\"”,\"height_inches””: \"“3\"”},{\"last_name””: \"Filius””,\"first_name””: \"Flitiwick””,\"height_feet””: \"“8\"”,\"height_inches””: \"“6\"”},{\"last_name””: \"Granger””,\"first_name””: \"Hermeone””,\"height_feet””: \"“5\"”,\"height_inches””: \"“5\"”},{\"last_name””: \"Hagrid””,\"first_name””: \"Rubeus””,\"height_feet””: \"“6\"”,\"height_inches””: \"“8\"”},{\"last_name””: \"Lestrange””,\"first_name””: \"Belatrix””,\"height_feet””: \"“6\"”,\"height_inches””: \"“0\"”},{\"last_name””: \"Lockhan””,\"first_name””: \"Gilderoy””,\"height_feet””: \"“5\"”,\"height_inches””: \"“1\"”},{\"last_name””: \"Longbottom””,\"first_name””: \"Neville””,\"height_feet””: \"“5\"”,\"height_inches””: \"“7\"”},{\"last_name””: \"Lovegood””,\"first_name””: \"Luna””,\"height_feet””: \"“5\"”,\"height_inches””: \"“2\"”},{\"last_name””: \"Lupin””,\"first_name””: \"Remus””,\"height_feet””: \"“6\"”,\"height_inches””: \"“2\"”},{\"last_name””: \"Malfoy””,\"first_name””: \"Draco””,\"height_feet””: \"“6\"”,\"height_inches””: \"“0\"”},{\"last_name””: \"McGonagal””,\"first_name””: \"Minerva””,\"height_feet””: \"“5\"”,\"height_inches””: \"“9\"”},{\"last_name””: \"Moody””,\"first_name””: \"Alastor””,\"height_feet””: \"“6\"”,\"height_inches””: \"“2\"”},{\"last_name””: \"Potter””,\"first_name””: \"Lily””,\"height_feet””: \"“5\"”,\"height_inches””: \"“11\"”},{\"last_name””: \"Potter””,\"first_name””: \"James””,\"height_feet””: \"“5\"”,\"height_inches””: \"“6\"”},{\"last_name””: \"Potter””,\"first_name””: \"Harry””,\"height_feet””: \"“5\"”,\"height_inches””: \"“11\"”},{\"last_name””: \"Slughom””,\"first_name””: \"Horace””,\"height_feet””: \"“5\"”,\"height_inches””: \"“3\"”},{\"last_name””: \"Snape””,\"first_name””: \"Severus””,\"height_feet””: \"“5\"”,\"height_inches””: \"“9\"”},{\"last_name””: \"Thomas””,\"first_name””: \"Dean””,\"height_feet””: \"“6\"”,\"height_inches””: \"“3\"”},{\"last_name””: \"Trelawney””,\"first_name””: \"Sybll””,\"height_feet””: \"“5\"”,\"height_inches””: \"“8\"”},{\"last_name””: \"Umbridge””,\"first_name””: \"Dolores””,\"height_feet””: \"“5\"”,\"height_inches””: \"“1\"”},{\"last_name””: \"Voldemort””,\"first_name””: \"Lord””,\"height_feet””: \"“6\"”,\"height_inches””: \"“3\"”},{\"last_name””: \"Weasley””,\"first_name””: \"Ron””,\"height_feet””: \"“6\"”,\"height_inches””: \"“1\"”},{\"last_name””: \"Weasley””,\"first_name””: \"Ginny””,\"height_feet””: \"“5\"”,\"height_inches””: \"“6\"”},{\"last_name””: \"Weasley””,\"first_name””: \"Arthur””,\"height_feet””: \"“6\"”,\"height_inches””: \"“2\"”},{\"last_name””: \"Weasley””,\"first_name””: \"Bill””,\"height_feet””: \"“4\"”,\"height_inches””: \"“1\"”},{\"last_name””: \"Weasley””,\"first_name””: \"Charlie””,\"height_feet””: \"“5\"”,\"height_inches””: \"“7\"”},{\"last_name””: \"Weasley””,\"first_name””: \"Molly””,\"height_feet””: \"“5\"”,\"height_inches””: \"“3\"”},{\"last_name””: \"Weasley””,\"first_name””: \"Percy””,\"height_feet””: \"“6\"”,\"height_inches””: \"“1\"”},{\"last_name””: \"Weasley””,\"first_name””: \"Fred””,\"height_feet””: \"“6\"”,\"height_inches””: \"“3\"”},{\"last_name””: \"Weasley””,\"first_name””: \"George””,\"height_feet””: \"“5\"”,\"height_inches””: \"“3\"”},]'"
      ]
     },
     "execution_count": 27,
     "metadata": {},
     "output_type": "execute_result"
    }
   ],
   "source": [
    "to_change"
   ]
  },
  {
   "cell_type": "code",
   "execution_count": 9,
   "metadata": {},
   "outputs": [
    {
     "data": {
      "text/plain": [
       "<function TensorFlow - load datasets(dataset_str: str)>"
      ]
     },
     "execution_count": 9,
     "metadata": {},
     "output_type": "execute_result"
    }
   ],
   "source": [
    "import kfp\n",
    "\n",
    "components_directory = os.path.join(os.getcwd(),'src', 'components')\n",
    "\n",
    "load_op = kfp.components.load_component_from_file(os.path.join(components_directory, 'load_step', 'component.yaml'))\n",
    "preprocess_op = kfp.components.load_component_from_file(os.path.join(components_directory, 'preprocess_step', 'component.yaml'))\n"
   ]
  },
  {
   "cell_type": "code",
   "execution_count": null,
   "metadata": {},
   "outputs": [],
   "source": [
    "\n",
    "\n",
    "@kfp.dsl.pipeline(name='Production pipeline', description='Train MNIST dataset using MobileNetV2')\n",
    "\n",
    "def production_pipeline():\n",
    "    load_task = load_op(dataset_str='mnist', data_output_path='output_data/')\n",
    "\n",
    "    preprocess_task = preprocess_op(dataset_file_input=load_task.outputs['data-output-path'],\n",
    "    pp_data_file_output='./pp_data/') \n",
    "\n",
    "    \n",
    "\n",
    "\n",
    "    "
   ]
  }
 ],
 "metadata": {
  "kernelspec": {
   "display_name": "scaled-ML-deployment",
   "language": "python",
   "name": "python3"
  },
  "language_info": {
   "codemirror_mode": {
    "name": "ipython",
    "version": 3
   },
   "file_extension": ".py",
   "mimetype": "text/x-python",
   "name": "python",
   "nbconvert_exporter": "python",
   "pygments_lexer": "ipython3",
   "version": "3.9.6"
  }
 },
 "nbformat": 4,
 "nbformat_minor": 2
}
