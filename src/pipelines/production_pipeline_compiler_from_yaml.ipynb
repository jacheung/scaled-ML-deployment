{
 "cells": [
  {
   "cell_type": "code",
   "execution_count": 7,
   "metadata": {},
   "outputs": [
    {
     "data": {
      "text/plain": [
       "'/Users/jcheung/Documents/GitHub/scaled-ML-deployment/src/components'"
      ]
     },
     "execution_count": 7,
     "metadata": {},
     "output_type": "execute_result"
    }
   ],
   "source": [
    "import os\n"
   ]
  },
  {
   "cell_type": "code",
   "execution_count": 9,
   "metadata": {},
   "outputs": [
    {
     "data": {
      "text/plain": [
       "<function TensorFlow - load datasets(dataset_str: str)>"
      ]
     },
     "execution_count": 9,
     "metadata": {},
     "output_type": "execute_result"
    }
   ],
   "source": [
    "import kfp\n",
    "\n",
    "components_directory = os.path.join(os.getcwd(),'src', 'components')\n",
    "\n",
    "load_op = kfp.components.load_component_from_file(os.path.join(components_directory, 'load_step', 'component.yaml'))\n",
    "preprocess_op = kfp.components.load_component_from_file(os.path.join(components_directory, 'preprocess_step', 'component.yaml'))\n"
   ]
  },
  {
   "cell_type": "code",
   "execution_count": null,
   "metadata": {},
   "outputs": [],
   "source": [
    "\n",
    "\n",
    "@kfp.dsl.pipeline(name='Production pipeline', description='Train MNIST dataset using MobileNetV2')\n",
    "\n",
    "def production_pipeline():\n",
    "    load_task = load_op(dataset_str='mnist', data_output_path='output_data/')\n",
    "\n",
    "    preprocess_task = preprocess_op(dataset_file_input=load_task.outputs['data-output-path'],\n",
    "    pp_data_file_output='./pp_data/') \n",
    "\n",
    "    \n",
    "\n",
    "\n",
    "    "
   ]
  }
 ],
 "metadata": {
  "kernelspec": {
   "display_name": "scaled-ML-deployment",
   "language": "python",
   "name": "python3"
  },
  "language_info": {
   "codemirror_mode": {
    "name": "ipython",
    "version": 3
   },
   "file_extension": ".py",
   "mimetype": "text/x-python",
   "name": "python",
   "nbconvert_exporter": "python",
   "pygments_lexer": "ipython3",
   "version": "3.9.6"
  }
 },
 "nbformat": 4,
 "nbformat_minor": 2
}
